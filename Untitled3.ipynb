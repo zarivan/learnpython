{
  "nbformat": 4,
  "nbformat_minor": 0,
  "metadata": {
    "colab": {
      "name": "Untitled3.ipynb",
      "provenance": [],
      "authorship_tag": "ABX9TyOuNgxC9T/I47IQkyMJe15x",
      "include_colab_link": true
    },
    "kernelspec": {
      "name": "python3",
      "display_name": "Python 3"
    }
  },
  "cells": [
    {
      "cell_type": "markdown",
      "metadata": {
        "id": "view-in-github",
        "colab_type": "text"
      },
      "source": [
        "<a href=\"https://colab.research.google.com/github/zarivan/learnpython/blob/master/Untitled3.ipynb\" target=\"_parent\"><img src=\"https://colab.research.google.com/assets/colab-badge.svg\" alt=\"Open In Colab\"/></a>"
      ]
    },
    {
      "cell_type": "code",
      "metadata": {
        "id": "Btn79coYvrxY",
        "colab_type": "code",
        "colab": {
          "base_uri": "https://localhost:8080/",
          "height": 54
        },
        "outputId": "311037f1-ec82-4c7c-c2b5-4be0029d5c2b"
      },
      "source": [
        "from tabulate import tabulate\n",
        "import math as m\n",
        "# https://python-para-impacientes.blogspot.com/2017/01/tablas-con-estilo-con-tabulate.html\n",
        " \n",
        " \n",
        " #funciones \n",
        "#este es un ejemplo de Funcion generá problemas al leer los datos desde el input.\n",
        "# se podría revisar el tipo de archivo.\n",
        "\"\"\" \n",
        "def preguntaSN(sexo):\n",
        "    if sexo == 'm' or sexo == 'f':\n",
        "      conSex = 1\n",
        "    else: \n",
        "      conSex = 0\n",
        "    while conSex == 0: \n",
        "      print(\"error de datos\")\n",
        "      print(\"sexo masculino (m) femenino (f): \", end=\" \")\n",
        "      sexo = input()\n",
        "    \n",
        "    if sexo == 'm' or sexo == 'f':\n",
        "        conSex = 1\n",
        "    else: \n",
        "        conSex = 0\n",
        "    if sexo == 'm':\n",
        "          sexoD = 'masculino'\n",
        "    elif sexo == 'f':\n",
        "        sexoD = 'femenino'\n",
        "    return sexoD \n",
        "\"\"\"\n"
      ],
      "execution_count": 51,
      "outputs": [
        {
          "output_type": "execute_result",
          "data": {
            "text/plain": [
              "' \\ndef preguntaSN(sexo):\\n    if sexo == \\'m\\' or sexo == \\'f\\':\\n      conSex = 1\\n    else: \\n      conSex = 0\\n    while conSex == 0: \\n      print(\"error de datos\")\\n      print(\"sexo masculino (m) femenino (f): \", end=\" \")\\n      sexo = input()\\n    \\n    if sexo == \\'m\\' or sexo == \\'f\\':\\n        conSex = 1\\n    else: \\n        conSex = 0\\n    if sexo == \\'m\\':\\n          sexoD = \\'masculino\\'\\n    elif sexo == \\'f\\':\\n        sexoD = \\'femenino\\'\\n    return sexoD \\n'"
            ]
          },
          "metadata": {
            "tags": []
          },
          "execution_count": 51
        }
      ]
    },
    {
      "cell_type": "code",
      "metadata": {
        "id": "phkx9IlKvpNF",
        "colab_type": "code",
        "colab": {
          "base_uri": "https://localhost:8080/",
          "height": 51
        },
        "outputId": "3f3624d3-a8f6-420f-d250-2dbb8772879b"
      },
      "source": [
        "\n",
        "print(\"Calcularemos valores con respecto a cuerpo, por favor ingrese los siguientes datos:\")\n",
        "\n",
        "print(\"sexo masculino (m) femenino (f): \",end=\"\")\n",
        "sexo = input()\n",
        "#print(\"correcto\", sexo)\n",
        "\n",
        "if sexo == 'm' or sexo == 'f':\n",
        "    conSex = 1\n",
        "else: \n",
        "  conSex = 0\n",
        "\n",
        "while conSex == 0: \n",
        "    print(\"error de datos\")\n",
        "    print(\"sexo masculino (m) femenino (f): \", end=\" \")\n",
        "    sexo = input()\n",
        "    \n",
        "    if sexo == 'm' or sexo == 'f':\n",
        "      conSex = 1\n",
        "    else: \n",
        "      conSex = 0\n",
        "if sexo == 'm':\n",
        "  sexoD = 'masculino'\n",
        "elif sexo == 'f':\n",
        "  sexoD = 'femenino'\n"
      ],
      "execution_count": 25,
      "outputs": [
        {
          "output_type": "stream",
          "text": [
            "Calcularemos valores con respecto a cuerpo, por favor ingrese los siguientes datos:\n",
            "sexo masculino (m) femenino (f): m\n"
          ],
          "name": "stdout"
        }
      ]
    },
    {
      "cell_type": "code",
      "metadata": {
        "id": "OeJOHwuw7Dj6",
        "colab_type": "code",
        "colab": {
          "base_uri": "https://localhost:8080/",
          "height": 102
        },
        "outputId": "8908e733-15de-4ad6-fa49-ca285f4938c6"
      },
      "source": [
        "edad = float(input(\"Edad: \"))\n",
        "estatura = float(input(\"Estatura (cm): \"))\n",
        "peso = float(input(\"Peso (kg): \"))\n",
        "cintura = float(input(\"Cintura (cm): \"))\n",
        "cuello = float(input(\"Cuello (cm):  \"))"
      ],
      "execution_count": 41,
      "outputs": [
        {
          "output_type": "stream",
          "text": [
            "Edad: 28\n",
            "Estatura (cm): 163\n",
            "Peso (kg): 58\n",
            "Cintura (cm): 82\n",
            "Cuello (cm):  37\n"
          ],
          "name": "stdout"
        }
      ]
    },
    {
      "cell_type": "code",
      "metadata": {
        "id": "qFtRfd--1awA",
        "colab_type": "code",
        "colab": {}
      },
      "source": [
        "#print(\"Los datos son correctos\",{edad},peso,estatura,cintura,cuello)\n",
        "#print(f\"Los datos son correctos\",{edad},peso,estatura,cintura,cuello)\n",
        "medidas = [['Datos','valores'],\n",
        "          ['edad', edad],\n",
        "          ['sexo',sexoD],\n",
        "          ['estatura (cm)', estatura],\n",
        "          ['peso (kg)', peso],\n",
        "          ['cintura (cm)', cintura],\n",
        "          ['cuello (cm)',cuello]]"
      ],
      "execution_count": 0,
      "outputs": []
    },
    {
      "cell_type": "code",
      "metadata": {
        "id": "T7_JGO3s1kON",
        "colab_type": "code",
        "colab": {
          "base_uri": "https://localhost:8080/",
          "height": 272
        },
        "outputId": "b30bab62-d9c9-449d-81b0-9c81908f9b9b"
      },
      "source": [
        "print(tabulate(medidas,headers='firstrow',tablefmt='fancy_grid'))"
      ],
      "execution_count": 30,
      "outputs": [
        {
          "output_type": "stream",
          "text": [
            "╒═══════════════╤═══════════╕\n",
            "│ Datos         │ valores   │\n",
            "╞═══════════════╪═══════════╡\n",
            "│ edad          │ 28        │\n",
            "├───────────────┼───────────┤\n",
            "│ sexo          │ masculino │\n",
            "├───────────────┼───────────┤\n",
            "│ estatura (cm) │ 163       │\n",
            "├───────────────┼───────────┤\n",
            "│ peso (kg)     │ 58        │\n",
            "├───────────────┼───────────┤\n",
            "│ cintura (cm)  │ 82        │\n",
            "├───────────────┼───────────┤\n",
            "│ cuello (cm)   │ 37        │\n",
            "╘═══════════════╧═══════════╛\n"
          ],
          "name": "stdout"
        }
      ]
    },
    {
      "cell_type": "code",
      "metadata": {
        "id": "_hGT0Bkw9se5",
        "colab_type": "code",
        "colab": {
          "base_uri": "https://localhost:8080/",
          "height": 34
        },
        "outputId": "d6725f49-cb26-42df-e637-209c675a2efb"
      },
      "source": [
        "IMC = peso/((estatura/100)**2)\n",
        "ICA = cintura/estatura\n",
        "grasaC = 495/(1.0324-0.19077*(m.log(cintura-cuello,10))+0.15456*(m.log(estatura,10)))-450\n",
        "grasaM = peso*(1-grasaC/100)\n",
        "grasaM\n",
        "\n",
        "\n",
        "\n",
        "\n"
      ],
      "execution_count": 61,
      "outputs": [
        {
          "output_type": "execute_result",
          "data": {
            "text/plain": [
              "47.87786838820718"
            ]
          },
          "metadata": {
            "tags": []
          },
          "execution_count": 61
        }
      ]
    },
    {
      "cell_type": "code",
      "metadata": {
        "id": "4GOx63ohqrcq",
        "colab_type": "code",
        "colab": {
          "base_uri": "https://localhost:8080/",
          "height": 204
        },
        "outputId": "269ca38a-1789-4074-884e-c224559c66a2"
      },
      "source": [
        "salud = [['Calculo', 'Valores'],\n",
        "         ['IMC',IMC],\n",
        "         ['ICA',ICA],\n",
        "         ['Grasa corporal',grasaC],\n",
        "         ['Grasa macra', grasaM]]\n",
        "\n",
        "print(tabulate(salud,headers='firstrow',tablefmt='fancy_grid'))"
      ],
      "execution_count": 62,
      "outputs": [
        {
          "output_type": "stream",
          "text": [
            "╒════════════════╤═══════════╕\n",
            "│ Calculo        │   Valores │\n",
            "╞════════════════╪═══════════╡\n",
            "│ IMC            │ 21.83     │\n",
            "├────────────────┼───────────┤\n",
            "│ ICA            │  0.503067 │\n",
            "├────────────────┼───────────┤\n",
            "│ Grasa corporal │ 17.452    │\n",
            "├────────────────┼───────────┤\n",
            "│ Grasa macra    │ 47.8779   │\n",
            "╘════════════════╧═══════════╛\n"
          ],
          "name": "stdout"
        }
      ]
    },
    {
      "cell_type": "code",
      "metadata": {
        "id": "9R9_ghN1-7LG",
        "colab_type": "code",
        "colab": {}
      },
      "source": [
        ""
      ],
      "execution_count": 0,
      "outputs": []
    },
    {
      "cell_type": "code",
      "metadata": {
        "id": "2Lxb_hfbL6PP",
        "colab_type": "code",
        "colab": {}
      },
      "source": [
        ""
      ],
      "execution_count": 0,
      "outputs": []
    },
    {
      "cell_type": "code",
      "metadata": {
        "id": "REV6LRw6MDoW",
        "colab_type": "code",
        "colab": {}
      },
      "source": [
        ""
      ],
      "execution_count": 0,
      "outputs": []
    },
    {
      "cell_type": "code",
      "metadata": {
        "id": "a809YfC2Y_J9",
        "colab_type": "code",
        "colab": {}
      },
      "source": [
        ""
      ],
      "execution_count": 0,
      "outputs": []
    }
  ]
}