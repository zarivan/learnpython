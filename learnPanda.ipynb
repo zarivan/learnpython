{
  "nbformat": 4,
  "nbformat_minor": 0,
  "metadata": {
    "colab": {
      "name": "learnPanda.ipynb",
      "provenance": [],
      "collapsed_sections": [],
      "mount_file_id": "1qUZoSMIPMaQOu_NQUkPGP9HV4OkCvIfU",
      "authorship_tag": "ABX9TyMsDafNUERBs07ySmc5GW0Z",
      "include_colab_link": true
    },
    "kernelspec": {
      "name": "python3",
      "display_name": "Python 3"
    }
  },
  "cells": [
    {
      "cell_type": "markdown",
      "metadata": {
        "id": "view-in-github",
        "colab_type": "text"
      },
      "source": [
        "<a href=\"https://colab.research.google.com/github/zarivan/learnpython/blob/master/learnPanda.ipynb\" target=\"_parent\"><img src=\"https://colab.research.google.com/assets/colab-badge.svg\" alt=\"Open In Colab\"/></a>"
      ]
    },
    {
      "cell_type": "code",
      "metadata": {
        "id": "XvOJXmu6EvDA"
      },
      "source": [
        "import pandas as pd\n",
        "import numpy as np\n",
        "import matplotlib.pyplot as plt\n",
        "import time\n",
        "import csv\n",
        "import openpyxl"
      ],
      "execution_count": 13,
      "outputs": []
    },
    {
      "cell_type": "code",
      "metadata": {
        "id": "LuKi1ZNIFAPz",
        "outputId": "d0c55902-46bf-402a-e51c-006f4fe7160e",
        "colab": {
          "base_uri": "https://localhost:8080/"
        }
      },
      "source": [
        "s = pd.Series([1, 3, 5, np.nan, 6, 8])\n",
        "print(s)\n",
        "x = [1, 2, 3, 4, 5]\n",
        "y = [3, 6, 4, 2, 9]"
      ],
      "execution_count": 40,
      "outputs": [
        {
          "output_type": "stream",
          "text": [
            "0    1.0\n",
            "1    3.0\n",
            "2    5.0\n",
            "3    NaN\n",
            "4    6.0\n",
            "5    8.0\n",
            "dtype: float64\n"
          ],
          "name": "stdout"
        }
      ]
    },
    {
      "cell_type": "code",
      "metadata": {
        "id": "FCZW_OYvHHYJ",
        "outputId": "9b971856-05d3-4a63-be2d-a30ede5a61da",
        "colab": {
          "base_uri": "https://localhost:8080/"
        }
      },
      "source": [
        "a = pd.Series(data=[5, 2, 3, 5], index=None, dtype=float, name=None, copy=False, fastpath=False)\n",
        "a"
      ],
      "execution_count": 25,
      "outputs": [
        {
          "output_type": "execute_result",
          "data": {
            "text/plain": [
              "0    5.0\n",
              "1    2.0\n",
              "2    3.0\n",
              "3    5.0\n",
              "dtype: float64"
            ]
          },
          "metadata": {
            "tags": []
          },
          "execution_count": 25
        }
      ]
    },
    {
      "cell_type": "code",
      "metadata": {
        "id": "EZt2FOkvIfLF",
        "outputId": "d5eb826a-e224-41e1-8b42-0675095fba1b",
        "colab": {
          "base_uri": "https://localhost:8080/",
          "height": 282
        }
      },
      "source": [
        "plt.subplot(211)\n",
        "plt.plot(a)\n",
        "plt.subplot(212)\n",
        "plt.plot(s)"
      ],
      "execution_count": 55,
      "outputs": [
        {
          "output_type": "execute_result",
          "data": {
            "text/plain": [
              "[<matplotlib.lines.Line2D at 0x7f0b0431b550>]"
            ]
          },
          "metadata": {
            "tags": []
          },
          "execution_count": 55
        },
        {
          "output_type": "display_data",
          "data": {
            "image/png": "[encoded data removed]",
            "text/plain": [
              "<Figure size 432x288 with 2 Axes>"
            ]
          },
          "metadata": {
            "tags": [],
            "needs_background": "light"
          }
        }
      ]
    },
    {
      "cell_type": "markdown",
      "metadata": {
        "id": "pLYSlgG9LiV3"
      },
      "source": [
        "*Crear un documento de texto, despues trabajar sobre el agregando datos.*"
      ]
    },
    {
      "cell_type": "code",
      "metadata": {
        "id": "Q9Qe05dAL0Yq",
        "outputId": "eece719a-b5c6-4dd3-8129-0d1c0a43858a",
        "colab": {
          "base_uri": "https://localhost:8080/"
        }
      },
      "source": [
        "f = open ('primerDocumento.txt','w')\n",
        "f.write('Primer linea'+'\\n')\n",
        "fecha = time.strftime(\"%H:%M:%S\")\n",
        "print(fecha)\n",
        "# time.strftime %H %m %s hora en 24 horas.\n",
        "f.write(fecha + '\\n')\n",
        "f.close()\n"
      ],
      "execution_count": 145,
      "outputs": [
        {
          "output_type": "stream",
          "text": [
            "20:35:27\n"
          ],
          "name": "stdout"
        }
      ]
    },
    {
      "cell_type": "code",
      "metadata": {
        "id": "717lHPb5OQpT",
        "outputId": "ab596425-12af-45c6-e31c-63a191d27394",
        "colab": {
          "base_uri": "https://localhost:8080/"
        }
      },
      "source": [
        "print(fecha)\n",
        "with open('primerDocumento.txt','r') as f:\n",
        "  a = f.read()\n",
        "  f.close()\n",
        "with open('primerDocumento.txt', 'a') as f:   #agrega texto al final del documento. y Crea uno si este no existe.\n",
        "  hora = time.strftime(\"%H:%M:%S\")\n",
        "  f.write('Hora '+ hora + '\\n')\n",
        "  f.close()\n",
        "print(a)\n"
      ],
      "execution_count": 146,
      "outputs": [
        {
          "output_type": "stream",
          "text": [
            "20:35:27\n",
            "Primer linea\n",
            "20:35:27\n",
            "\n"
          ],
          "name": "stdout"
        }
      ]
    },
    {
      "cell_type": "code",
      "metadata": {
        "id": "kcp5IPor86ni",
        "outputId": "c80bd5df-3d78-4787-9548-71b3e3606b30",
        "colab": {
          "base_uri": "https://localhost:8080/"
        }
      },
      "source": [
        "#abre un documento se puede escribir y leer.\n",
        "with open('primerDocumento.txt', mode='r+') as f:\n",
        "  a = f.read()\n",
        "  hora = time.strftime(\"%H:%M:%S\")\n",
        "  f.write('Hora '+ hora + '\\n')\n",
        "  f.close()\n",
        "  \n",
        "print(\"it works\")"
      ],
      "execution_count": 166,
      "outputs": [
        {
          "output_type": "stream",
          "text": [
            "it works\n"
          ],
          "name": "stdout"
        }
      ]
    },
    {
      "cell_type": "markdown",
      "metadata": {
        "id": "l3Ba7jLn5wDb"
      },
      "source": [
        "Definiciones que agregan texto, y borran."
      ]
    },
    {
      "cell_type": "code",
      "metadata": {
        "id": "t6M-Uq9SfxIw",
        "outputId": "c2d59dc3-ea70-46cf-fc7d-b99d85dc0319",
        "colab": {
          "base_uri": "https://localhost:8080/"
        }
      },
      "source": [
        "def Agregar():\n",
        "    nuevoLibro = input(\"Introduzca el nombre del libro: \\n\") #Aquí es donde me lanza el error: NameError: name 'Ejemplo' is not defined\n",
        "    Escritor = open(\"Libros.txt\", \"a\", newline='\\n')\n",
        "    Escritor.write(nuevoLibro +'\\n')\n",
        "    Escritor.close()\n",
        "    print(\"Se ha añadido con éxito\")\n",
        "\n",
        "def Ver():\n",
        "    Escritor = open(\"Libros.txt\", 'r')\n",
        "    Contenido = Escritor.read()\n",
        "    print(Contenido)\n",
        "    Escritor.close()\n",
        "\n",
        "def Borrar():\n",
        "    Vacio = \"\"\n",
        "    Escritor = open(\"Libros.txt\", \"w\")\n",
        "    Escritor.write(Vacio)\n",
        "    Escritor.close()\n",
        "    print(\"Se borró toda la biblioteca\")\n",
        "\n",
        "def Opciones():\n",
        "    #try:\n",
        "    Opcion = (input(\"¿Qué quieres hacer? Seleccione un número \\n 1) Agregar | 2) Ver | 3) Borrar | 4) Salir \\n\"))\n",
        "    #except Exception as e:\n",
        "        #raise e #Aquí estoy tratando de que si el usuario introduce una letra lance un mensaje que le indique que debe escribir un número\n",
        "    if (Opcion == '1'):\n",
        "        Agregar()\n",
        "    elif (Opcion == '2'):\n",
        "        Ver()\n",
        "    elif (Opcion == '3'):\n",
        "        Borrar()\n",
        "    elif (Opcion == '4'):\n",
        "        print(\"¡Adios!\")\n",
        "        exit()\n",
        "    else: \n",
        "        print(\"\\n\\nDebe seleccionar una opción valida\\n\\n\")\n",
        "        Opciones()\n",
        "\n",
        "Opciones()"
      ],
      "execution_count": 7,
      "outputs": [
        {
          "output_type": "stream",
          "text": [
            "¿Qué quieres hacer? Seleccione un número \n",
            " 1) Agregar | 2) Ver | 3) Borrar | 4) Salir \n",
            "3\n",
            "Se borró toda la biblioteca\n"
          ],
          "name": "stdout"
        }
      ]
    },
    {
      "cell_type": "code",
      "metadata": {
        "id": "qQfwBNyfiYR8"
      },
      "source": [
        "with open('protagonist.csv', 'w', newline='') as file:\n",
        "    writer = csv.writer(file)\n",
        "    writer.writerow([\"SN\", \"Movie\", \"Protagonist\"])\n",
        "    writer.writerow([1, \"Lord of the Rings\", \"Frodo Baggins\"])\n",
        "    writer.writerow([2, \"Harry Potter\", \"Harry Potter\"])"
      ],
      "execution_count": 16,
      "outputs": []
    },
    {
      "cell_type": "code",
      "metadata": {
        "id": "GOrkVJ_Lij1S"
      },
      "source": [
        "fxl = pd.read_excel('ROLES MES DE NOVIEMBRE.xlsx', sheet_name='L3',index_col=1, header=11)\n"
      ],
      "execution_count": 34,
      "outputs": []
    },
    {
      "cell_type": "code",
      "metadata": {
        "id": "085ZTyCKpFPz",
        "outputId": "4aeaeba5-1a4f-4587-ebd6-9f735c4a3d4f",
        "colab": {
          "base_uri": "https://localhost:8080/"
        }
      },
      "source": [
        "print(fxl)\n",
        "len(fxl)\n",
        "type(fxl)"
      ],
      "execution_count": 41,
      "outputs": [
        {
          "output_type": "stream",
          "text": [
            "                       Unnamed: 0              Unnamed: 2 Unnamed: 3\n",
            "Firmas de Conformidad                                               \n",
            "Grado y Empleo                NaN                 Nombre      Firma \n",
            "Sbtte. Asist.Labta            NaN        Edgar Pérez Cote        NaN\n",
            "Sld.Aux.Asist.Labta           NaN    Mayra Castillo López        NaN\n",
            "Tec.Labta.Clinc.              NaN  Vicente Lazcano Cuevas        NaN\n",
            "NaN                           NaN                     NaN        NaN\n",
            "NaN                           NaN                     NaN        NaN\n",
            "NaN                           NaN                     NaN        NaN\n",
            "NaN                           NaN                     NaN        NaN\n",
            "NaN                           NaN                     NaN        NaN\n",
            "NaN                           NaN                     NaN        NaN\n",
            "NaN                           NaN                     NaN        NaN\n",
            "NaN                           NaN                     NaN        NaN\n",
            "NaN                           NaN                     NaN        NaN\n",
            "NaN                           NaN                     NaN        NaN\n",
            "NaN                           NaN                     NaN        NaN\n",
            "NaN                           NaN                     NaN        NaN\n",
            "NaN                           NaN                     NaN        NaN\n",
            "NaN                           NaN                     NaN        NaN\n",
            "NaN                           NaN                     NaN        NaN\n",
            "NaN                           NaN                     NaN          ,\n"
          ],
          "name": "stdout"
        },
        {
          "output_type": "execute_result",
          "data": {
            "text/plain": [
              "pandas.core.frame.DataFrame"
            ]
          },
          "metadata": {
            "tags": []
          },
          "execution_count": 41
        }
      ]
    },
    {
      "cell_type": "code",
      "metadata": {
        "id": "PPcwmDLtqZBC",
        "outputId": "42e1674e-bf5b-4ae9-f73f-a2054c6681dd",
        "colab": {
          "base_uri": "https://localhost:8080/"
        }
      },
      "source": [
        "df = pd.DataFrame([[11, 21, 31], [12, 22, 32], [31, 32, 33]],\n",
        "                  index=[1,2,3], columns=['a', 'b', 'c'])\n",
        "\n",
        "print(df)"
      ],
      "execution_count": 51,
      "outputs": [
        {
          "output_type": "stream",
          "text": [
            "    a   b   c\n",
            "1  11  21  31\n",
            "2  12  22  32\n",
            "3  31  32  33\n"
          ],
          "name": "stdout"
        }
      ]
    },
    {
      "cell_type": "code",
      "metadata": {
        "id": "mF626-L6ycXD"
      },
      "source": [
        "df.to_excel('tablaUno.xlsx',sheet_name='Pagina1')"
      ],
      "execution_count": 46,
      "outputs": []
    },
    {
      "cell_type": "code",
      "metadata": {
        "id": "25qhRM-4yxe6",
        "outputId": "e042cdef-100f-478c-fd03-db31555a3528",
        "colab": {
          "base_uri": "https://localhost:8080/"
        }
      },
      "source": [
        "nombres = ('Edgar Pérez Cote', 'Mayra Castillo López', 'Vicente Lazcano Cuevas')\n",
        "\n",
        "print(nombres[2])"
      ],
      "execution_count": 65,
      "outputs": [
        {
          "output_type": "stream",
          "text": [
            "Vicente Lazcano Cuevas\n"
          ],
          "name": "stdout"
        }
      ]
    },
    {
      "cell_type": "code",
      "metadata": {
        "id": "ntT3HJOc1XsB",
        "outputId": "a810a258-7b5e-4158-fe6d-526984a35e30",
        "colab": {
          "base_uri": "https://localhost:8080/"
        }
      },
      "source": [
        ""
      ],
      "execution_count": 57,
      "outputs": [
        {
          "output_type": "stream",
          "text": [
            "ERROR: unknown command \"python\"\n"
          ],
          "name": "stdout"
        }
      ]
    },
    {
      "cell_type": "code",
      "metadata": {
        "id": "Jp5J3gPR18Ex",
        "outputId": "f0cc3807-83c1-4cee-8839-b3f8f04592aa",
        "colab": {
          "base_uri": "https://localhost:8080/"
        }
      },
      "source": [
        ""
      ],
      "execution_count": 58,
      "outputs": [
        {
          "output_type": "stream",
          "text": [
            "pip 19.3.1 from /usr/local/lib/python3.6/dist-packages/pip (python 3.6)\n"
          ],
          "name": "stdout"
        }
      ]
    },
    {
      "cell_type": "code",
      "metadata": {
        "id": "0xV3LHMw4yJ7",
        "outputId": "33e18c5e-c1ac-4da4-cdd5-3fc1e8f22be8",
        "colab": {
          "base_uri": "https://localhost:8080/"
        }
      },
      "source": [
        ""
      ],
      "execution_count": 60,
      "outputs": [
        {
          "output_type": "stream",
          "text": [
            "ERROR: unknown command \"upgrade\"\n"
          ],
          "name": "stdout"
        }
      ]
    },
    {
      "cell_type": "code",
      "metadata": {
        "id": "mDFuh5-8412q"
      },
      "source": [
        ""
      ],
      "execution_count": null,
      "outputs": []
    }
  ]
}