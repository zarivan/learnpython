{
  "nbformat": 4,
  "nbformat_minor": 0,
  "metadata": {
    "colab": {
      "name": "saludCuerpo.ipynb",
      "provenance": [],
      "collapsed_sections": [],
      "authorship_tag": "ABX9TyPHjtQGisqK2eVoB8dN2Amw",
      "include_colab_link": true
    },
    "kernelspec": {
      "name": "python3",
      "display_name": "Python 3"
    }
  },
  "cells": [
    {
      "cell_type": "markdown",
      "metadata": {
        "id": "view-in-github",
        "colab_type": "text"
      },
      "source": [
        "<a href=\"https://colab.research.google.com/github/zarivan/learnpython/blob/master/saludCuerpo.ipynb\" target=\"_parent\"><img src=\"https://colab.research.google.com/assets/colab-badge.svg\" alt=\"Open In Colab\"/></a>"
      ]
    },
    {
      "cell_type": "code",
      "metadata": {
        "id": "Btn79coYvrxY",
        "colab_type": "code",
        "outputId": "731e85d9-540f-4fcf-99d7-91c8829ce1b7",
        "colab": {
          "base_uri": "https://localhost:8080/",
          "height": 54
        }
      },
      "source": [
        "from tabulate import tabulate\n",
        "import math as m\n",
        "# https://python-para-impacientes.blogspot.com/2017/01/tablas-con-estilo-con-tabulate.html\n",
        " \n",
        " \n",
        " #funciones \n",
        "#este es un ejemplo de Funcion generá problemas al leer los datos desde el input.\n",
        "# se podría revisar el tipo de archivo.\n",
        "\"\"\" \n",
        "def preguntaSN(sexo):\n",
        "    if sexo == 'm' or sexo == 'f':\n",
        "      conSex = 1\n",
        "    else: \n",
        "      conSex = 0\n",
        "    while conSex == 0: \n",
        "      print(\"error de datos\")\n",
        "      print(\"sexo masculino (m) femenino (f): \", end=\" \")\n",
        "      sexo = input()\n",
        "    \n",
        "    if sexo == 'm' or sexo == 'f':\n",
        "        conSex = 1\n",
        "    else: \n",
        "        conSex = 0\n",
        "    if sexo == 'm':\n",
        "          sexoD = 'masculino'\n",
        "    elif sexo == 'f':\n",
        "        sexoD = 'femenino'\n",
        "    return sexoD \n",
        "\"\"\"\n"
      ],
      "execution_count": 1,
      "outputs": [
        {
          "output_type": "execute_result",
          "data": {
            "text/plain": [
              "' \\ndef preguntaSN(sexo):\\n    if sexo == \\'m\\' or sexo == \\'f\\':\\n      conSex = 1\\n    else: \\n      conSex = 0\\n    while conSex == 0: \\n      print(\"error de datos\")\\n      print(\"sexo masculino (m) femenino (f): \", end=\" \")\\n      sexo = input()\\n    \\n    if sexo == \\'m\\' or sexo == \\'f\\':\\n        conSex = 1\\n    else: \\n        conSex = 0\\n    if sexo == \\'m\\':\\n          sexoD = \\'masculino\\'\\n    elif sexo == \\'f\\':\\n        sexoD = \\'femenino\\'\\n    return sexoD \\n'"
            ]
          },
          "metadata": {
            "tags": []
          },
          "execution_count": 1
        }
      ]
    },
    {
      "cell_type": "code",
      "metadata": {
        "id": "phkx9IlKvpNF",
        "colab_type": "code",
        "outputId": "af3b8cb8-eabf-4e38-bf77-8cdedfb15c43",
        "colab": {
          "base_uri": "https://localhost:8080/",
          "height": 51
        }
      },
      "source": [
        "\n",
        "print(\"Calcularemos valores con respecto a cuerpo, por favor ingrese los siguientes datos:\")\n",
        "\n",
        "print(\"sexo masculino (m) femenino (f): \",end=\"\")\n",
        "sexo = input()\n",
        "#print(\"correcto\", sexo)\n",
        "\n",
        "if sexo == 'm' or sexo == 'f':\n",
        "    conSex = 1\n",
        "else: \n",
        "  conSex = 0\n",
        "\n",
        "while conSex == 0: \n",
        "    print(\"error de datos\")\n",
        "    print(\"sexo masculino (m) femenino (f): \", end=\" \")\n",
        "    sexo = input()\n",
        "    \n",
        "    if sexo == 'm' or sexo == 'f':\n",
        "      conSex = 1\n",
        "    else: \n",
        "      conSex = 0\n",
        "if sexo == 'm':\n",
        "  sexoD = 'masculino'\n",
        "elif sexo == 'f':\n",
        "  sexoD = 'femenino'\n"
      ],
      "execution_count": 2,
      "outputs": [
        {
          "output_type": "stream",
          "text": [
            "Calcularemos valores con respecto a cuerpo, por favor ingrese los siguientes datos:\n",
            "sexo masculino (m) femenino (f): m\n"
          ],
          "name": "stdout"
        }
      ]
    },
    {
      "cell_type": "code",
      "metadata": {
        "id": "OeJOHwuw7Dj6",
        "colab_type": "code",
        "outputId": "cc082785-6155-4ce9-9d6a-3fa89d123690",
        "colab": {
          "base_uri": "https://localhost:8080/",
          "height": 102
        }
      },
      "source": [
        "edad = float(input(\"Edad: \"))\n",
        "estatura = float(input(\"Estatura (cm): \"))\n",
        "peso = float(input(\"Peso (kg): \"))\n",
        "cintura = float(input(\"Cintura (cm): \"))\n",
        "cuello = float(input(\"Cuello (cm):  \"))\n",
        "if sexo == 'f':\n",
        "  cadera = float(input(\"Cadera (cm): \"))"
      ],
      "execution_count": 3,
      "outputs": [
        {
          "output_type": "stream",
          "text": [
            "Edad: 28\n",
            "Estatura (cm): 163\n",
            "Peso (kg): 58\n",
            "Cintura (cm): 82\n",
            "Cuello (cm):  37\n"
          ],
          "name": "stdout"
        }
      ]
    },
    {
      "cell_type": "code",
      "metadata": {
        "id": "qFtRfd--1awA",
        "colab_type": "code",
        "colab": {}
      },
      "source": [
        "if sexo == 'm':\n",
        "  cadera = '-'\n",
        "medidas = [['Datos','valores'],\n",
        "          ['edad', edad],\n",
        "          ['sexo',sexoD],\n",
        "          ['estatura (cm)', estatura],\n",
        "          ['peso (kg)', peso],\n",
        "          ['cintura (cm)', cintura],\n",
        "          ['cuello (cm)',cuello],\n",
        "           ['Cadera',cadera]]"
      ],
      "execution_count": 0,
      "outputs": []
    },
    {
      "cell_type": "code",
      "metadata": {
        "id": "T7_JGO3s1kON",
        "colab_type": "code",
        "outputId": "59a6e7c1-d099-4201-b6ab-f35e02bf7874",
        "colab": {
          "base_uri": "https://localhost:8080/",
          "height": 306
        }
      },
      "source": [
        "print(tabulate(medidas,headers='firstrow',tablefmt='fancy_grid'))"
      ],
      "execution_count": 6,
      "outputs": [
        {
          "output_type": "stream",
          "text": [
            "╒═══════════════╤═══════════╕\n",
            "│ Datos         │ valores   │\n",
            "╞═══════════════╪═══════════╡\n",
            "│ edad          │ 28.0      │\n",
            "├───────────────┼───────────┤\n",
            "│ sexo          │ masculino │\n",
            "├───────────────┼───────────┤\n",
            "│ estatura (cm) │ 163.0     │\n",
            "├───────────────┼───────────┤\n",
            "│ peso (kg)     │ 58.0      │\n",
            "├───────────────┼───────────┤\n",
            "│ cintura (cm)  │ 82.0      │\n",
            "├───────────────┼───────────┤\n",
            "│ cuello (cm)   │ 37.0      │\n",
            "├───────────────┼───────────┤\n",
            "│ Cadera        │ -         │\n",
            "╘═══════════════╧═══════════╛\n"
          ],
          "name": "stdout"
        }
      ]
    },
    {
      "cell_type": "code",
      "metadata": {
        "id": "_hGT0Bkw9se5",
        "colab_type": "code",
        "colab": {
          "base_uri": "https://localhost:8080/",
          "height": 204
        },
        "outputId": "15a4909e-30e4-4b4c-a23f-6f1611828a82"
      },
      "source": [
        "IMC = peso/((estatura/100)**2)\n",
        "ICA = cintura/estatura\n",
        "if sexo == 'm':\n",
        "  grasaC = 495/(1.0324-0.19077*(m.log(cintura-cuello,10))+0.15456*(m.log(estatura,10)))-450\n",
        "elif sexo == 'f': \n",
        "  grasaC = 495/(1.29579-0.35004*(m.log(cintura+cadera-cuello,10))+0.22100*(m.log(estatura,10)))-450\n",
        "\n",
        "grasaM = peso*(1-grasaC/100)\n",
        "#Calculo de la condición fisica.\n",
        "salud = [['Calculo', 'Valores'],\n",
        "         ['IMC',IMC],\n",
        "         ['ICA',ICA],\n",
        "         ['Grasa corporal',grasaC],\n",
        "         ['Grasa macra', grasaM]]\n",
        "\n",
        "print(tabulate(salud,headers='firstrow',tablefmt='fancy_grid'))\n",
        "\n",
        "\n",
        "\n",
        "\n"
      ],
      "execution_count": 9,
      "outputs": [
        {
          "output_type": "stream",
          "text": [
            "╒════════════════╤═══════════╕\n",
            "│ Calculo        │   Valores │\n",
            "╞════════════════╪═══════════╡\n",
            "│ IMC            │ 21.83     │\n",
            "├────────────────┼───────────┤\n",
            "│ ICA            │  0.503067 │\n",
            "├────────────────┼───────────┤\n",
            "│ Grasa corporal │ 17.452    │\n",
            "├────────────────┼───────────┤\n",
            "│ Grasa macra    │ 47.8779   │\n",
            "╘════════════════╧═══════════╛\n"
          ],
          "name": "stdout"
        }
      ]
    },
    {
      "cell_type": "code",
      "metadata": {
        "id": "4GOx63ohqrcq",
        "colab_type": "code",
        "colab": {}
      },
      "source": [
        ""
      ],
      "execution_count": 0,
      "outputs": []
    },
    {
      "cell_type": "code",
      "metadata": {
        "id": "9R9_ghN1-7LG",
        "colab_type": "code",
        "colab": {}
      },
      "source": [
        ""
      ],
      "execution_count": 0,
      "outputs": []
    },
    {
      "cell_type": "code",
      "metadata": {
        "id": "2Lxb_hfbL6PP",
        "colab_type": "code",
        "colab": {}
      },
      "source": [
        ""
      ],
      "execution_count": 0,
      "outputs": []
    },
    {
      "cell_type": "code",
      "metadata": {
        "id": "REV6LRw6MDoW",
        "colab_type": "code",
        "colab": {}
      },
      "source": [
        ""
      ],
      "execution_count": 0,
      "outputs": []
    },
    {
      "cell_type": "code",
      "metadata": {
        "id": "a809YfC2Y_J9",
        "colab_type": "code",
        "colab": {}
      },
      "source": [
        ""
      ],
      "execution_count": 0,
      "outputs": []
    }
  ]
}