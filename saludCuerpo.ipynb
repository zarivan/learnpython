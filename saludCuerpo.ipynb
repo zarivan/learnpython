{
 "cells": [
  {
   "cell_type": "code",
   "execution_count": 2,
   "metadata": {},
   "outputs": [
    {
     "name": "stdout",
     "output_type": "stream",
     "text": [
      "Collecting tabulateNote: you may need to restart the kernel to use updated packages.\n",
      "  Downloading tabulate-0.8.7-py3-none-any.whl (24 kB)\n",
      "Installing collected packages: tabulate\n",
      "Successfully installed tabulate-0.8.7\n",
      "\n"
     ]
    }
   ],
   "source": [
    "#pip install tabulate"
   ]
  },
  {
   "cell_type": "code",
   "execution_count": 3,
   "metadata": {},
   "outputs": [],
   "source": [
    "from tabulate import tabulate\n",
    "import math as m"
   ]
  },
  {
   "cell_type": "code",
   "execution_count": 4,
   "metadata": {},
   "outputs": [
    {
     "name": "stdout",
     "output_type": "stream",
     "text": [
      "Calcularemos valores con respecto a cuerpo, por favor ingrese los siguientes datos:\n",
      "sexo masculino (m) femenino (f): "
     ]
    },
    {
     "name": "stdin",
     "output_type": "stream",
     "text": [
      " m\n"
     ]
    }
   ],
   "source": [
    "print(\"Calcularemos valores con respecto a cuerpo, por favor ingrese los siguientes datos:\")\n",
    "\n",
    "print(\"sexo masculino (m) femenino (f): \",end=\"\")\n",
    "sexo = input()\n",
    "#print(\"correcto\", sexo)\n",
    "\n",
    "if sexo == 'm' or sexo == 'f':\n",
    "    conSex = 1\n",
    "else: \n",
    "  conSex = 0\n",
    "\n",
    "while conSex == 0: \n",
    "    print(\"error de datos\")\n",
    "    print(\"sexo masculino (m) femenino (f): \", end=\" \")\n",
    "    sexo = input()\n",
    "    \n",
    "    if sexo == 'm' or sexo == 'f':\n",
    "      conSex = 1\n",
    "    else: \n",
    "      conSex = 0\n",
    "if sexo == 'm':\n",
    "  sexoD = 'masculino'\n",
    "elif sexo == 'f':\n",
    "  sexoD = 'femenino'"
   ]
  },
  {
   "cell_type": "code",
   "execution_count": 5,
   "metadata": {},
   "outputs": [
    {
     "name": "stdin",
     "output_type": "stream",
     "text": [
      "Edad:  28\n",
      "Estatura (cm):  163\n",
      "Peso (kg):  57\n",
      "Cintura (cm):  82\n",
      "Cuello (cm):   38\n"
     ]
    }
   ],
   "source": [
    "\n",
    "edad = float(input(\"Edad: \"))\n",
    "estatura = float(input(\"Estatura (cm): \"))\n",
    "peso = float(input(\"Peso (kg): \"))\n",
    "cintura = float(input(\"Cintura (cm): \"))\n",
    "cuello = float(input(\"Cuello (cm):  \"))\n",
    "if sexo == 'f':\n",
    "  cadera = float(input(\"Cadera (cm): \"))"
   ]
  },
  {
   "cell_type": "code",
   "execution_count": 7,
   "metadata": {},
   "outputs": [
    {
     "name": "stdout",
     "output_type": "stream",
     "text": [
      "╒═══════════════╤═══════════╕\n",
      "│ Datos         │ valores   │\n",
      "╞═══════════════╪═══════════╡\n",
      "│ edad          │ 28.0      │\n",
      "├───────────────┼───────────┤\n",
      "│ sexo          │ masculino │\n",
      "├───────────────┼───────────┤\n",
      "│ estatura (cm) │ 163.0     │\n",
      "├───────────────┼───────────┤\n",
      "│ peso (kg)     │ 57.0      │\n",
      "├───────────────┼───────────┤\n",
      "│ cintura (cm)  │ 82.0      │\n",
      "├───────────────┼───────────┤\n",
      "│ cuello (cm)   │ 38.0      │\n",
      "├───────────────┼───────────┤\n",
      "│ Cadera        │ -         │\n",
      "╘═══════════════╧═══════════╛\n"
     ]
    }
   ],
   "source": [
    "if sexo == 'm':\n",
    "  cadera = '-'\n",
    "medidas = [['Datos','valores'],\n",
    "          ['edad', edad],\n",
    "          ['sexo',sexoD],\n",
    "          ['estatura (cm)', estatura],\n",
    "          ['peso (kg)', peso],\n",
    "          ['cintura (cm)', cintura],\n",
    "          ['cuello (cm)',cuello],\n",
    "           ['Cadera',cadera]]\n",
    "print(tabulate(medidas,headers='firstrow',tablefmt='fancy_grid'))\n"
   ]
  },
  {
   "cell_type": "code",
   "execution_count": 8,
   "metadata": {},
   "outputs": [
    {
     "name": "stdout",
     "output_type": "stream",
     "text": [
      "╒════════════════╤═══════════╕\n",
      "│ Calculo        │   Valores │\n",
      "╞════════════════╪═══════════╡\n",
      "│ IMC            │ 21.4536   │\n",
      "├────────────────┼───────────┤\n",
      "│ ICA            │  0.503067 │\n",
      "├────────────────┼───────────┤\n",
      "│ Grasa corporal │ 16.6315   │\n",
      "├────────────────┼───────────┤\n",
      "│ Grasa macra    │ 47.5201   │\n",
      "╘════════════════╧═══════════╛\n"
     ]
    }
   ],
   "source": [
    "IMC = peso/((estatura/100)**2)\n",
    "ICA = cintura/estatura\n",
    "if sexo == 'm':\n",
    "  grasaC = 495/(1.0324-0.19077*(m.log(cintura-cuello,10))+0.15456*(m.log(estatura,10)))-450\n",
    "elif sexo == 'f': \n",
    "  grasaC = 495/(1.29579-0.35004*(m.log(cintura+cadera-cuello,10))+0.22100*(m.log(estatura,10)))-450\n",
    "\n",
    "grasaM = peso*(1-grasaC/100)\n",
    "#Calculo de la condición fisica.\n",
    "salud = [['Calculo', 'Valores'],\n",
    "         ['IMC',IMC],\n",
    "         ['ICA',ICA],\n",
    "         ['Grasa corporal',grasaC],\n",
    "         ['Grasa macra', grasaM]]\n",
    "\n",
    "print(tabulate(salud,headers='firstrow',tablefmt='fancy_grid'))\n"
   ]
  },
  {
   "cell_type": "code",
   "execution_count": null,
   "metadata": {},
   "outputs": [],
   "source": []
  }
 ],
 "metadata": {
  "kernelspec": {
   "display_name": "Python 3",
   "language": "python",
   "name": "python3"
  },
  "language_info": {
   "codemirror_mode": {
    "name": "ipython",
    "version": 3
   },
   "file_extension": ".py",
   "mimetype": "text/x-python",
   "name": "python",
   "nbconvert_exporter": "python",
   "pygments_lexer": "ipython3",
   "version": "3.8.3"
  }
 },
 "nbformat": 4,
 "nbformat_minor": 4
}
